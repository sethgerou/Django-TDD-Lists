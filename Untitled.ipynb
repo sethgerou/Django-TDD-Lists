{
 "cells": [
  {
   "cell_type": "code",
   "execution_count": 11,
   "metadata": {},
   "outputs": [
    {
     "name": "stdout",
     "output_type": "stream",
     "text": [
      "Maud 2\n",
      "2\n"
     ]
    }
   ],
   "source": [
    "class Chicken():\n",
    "    def __init__(self, name, age):\n",
    "        self.name = name\n",
    "        self.age = age\n",
    "\n",
    "egg = Chicken(\"Maud\", 1)\n",
    "\n",
    "egg.age += 1\n",
    "\n",
    "print(egg.name, egg.age)\n",
    "\n",
    "baby = Chicken(\"Betty\", 111)\n",
    "baby.feet = 2\n",
    "\n",
    "print(baby.feet)\n"
   ]
  }
 ],
 "metadata": {
  "kernelspec": {
   "display_name": "Python 3",
   "language": "python",
   "name": "python3"
  },
  "language_info": {
   "codemirror_mode": {
    "name": "ipython",
    "version": 3
   },
   "file_extension": ".py",
   "mimetype": "text/x-python",
   "name": "python",
   "nbconvert_exporter": "python",
   "pygments_lexer": "ipython3",
   "version": "3.6.1"
  }
 },
 "nbformat": 4,
 "nbformat_minor": 2
}
